{
  "nbformat": 4,
  "nbformat_minor": 0,
  "metadata": {
    "colab": {
      "provenance": [],
      "authorship_tag": "ABX9TyO/+Sh3v5A6aPna9gakpLN/",
      "include_colab_link": true
    },
    "kernelspec": {
      "name": "python3",
      "display_name": "Python 3"
    },
    "language_info": {
      "name": "python"
    }
  },
  "cells": [
    {
      "cell_type": "markdown",
      "metadata": {
        "id": "view-in-github",
        "colab_type": "text"
      },
      "source": [
        "<a href=\"https://colab.research.google.com/github/MatheusGomes00/Gemini-AI-Agent/blob/main/Imers%C3%A3o_Agentes_de_IA_Aura_%2B_Google_Gemini.ipynb\" target=\"_parent\"><img src=\"https://colab.research.google.com/assets/colab-badge.svg\" alt=\"Open In Colab\"/></a>"
      ]
    },
    {
      "cell_type": "markdown",
      "source": [
        "Instalação do framework para construção do agente de IA"
      ],
      "metadata": {
        "id": "zxdWgNpejDBO"
      }
    },
    {
      "cell_type": "code",
      "execution_count": 2,
      "metadata": {
        "id": "aHVKoASoehwG",
        "colab": {
          "base_uri": "https://localhost:8080/"
        },
        "outputId": "aecb58b2-90ed-45b6-9c62-5baf9bc50142"
      },
      "outputs": [
        {
          "output_type": "stream",
          "name": "stdout",
          "text": [
            "\u001b[?25l   \u001b[90m━━━━━━━━━━━━━━━━━━━━━━━━━━━━━━━━━━━━━━━━\u001b[0m \u001b[32m0.0/42.0 kB\u001b[0m \u001b[31m?\u001b[0m eta \u001b[36m-:--:--\u001b[0m\r\u001b[2K   \u001b[90m━━━━━━━━━━━━━━━━━━━━━━━━━━━━━━━━━━━━━━━━\u001b[0m \u001b[32m42.0/42.0 kB\u001b[0m \u001b[31m2.9 MB/s\u001b[0m eta \u001b[36m0:00:00\u001b[0m\n",
            "\u001b[?25h"
          ]
        }
      ],
      "source": [
        "!pip install -q --upgrade langchain langchain-google-genai google-generativeai\n"
      ]
    },
    {
      "cell_type": "markdown",
      "source": [
        "Importação API_KEY e da lib para prompts do google"
      ],
      "metadata": {
        "id": "PhYhm9KwjNMy"
      }
    },
    {
      "cell_type": "code",
      "source": [
        "from google.colab import userdata\n",
        "from langchain_google_genai import ChatGoogleGenerativeAI\n",
        "\n",
        "GOOGLE_API_KEY = userdata.get('GEMINI_API_KEY')\n"
      ],
      "metadata": {
        "id": "578fXhrWhSHO"
      },
      "execution_count": 3,
      "outputs": []
    },
    {
      "cell_type": "markdown",
      "source": [
        "Conexão com o Gemini"
      ],
      "metadata": {
        "id": "373xkDOGjeL7"
      }
    },
    {
      "cell_type": "code",
      "source": [
        "llm = ChatGoogleGenerativeAI(\n",
        "    model=\"gemini-2.5-flash\",\n",
        "    temperature=0.0,\n",
        "    api_key=GOOGLE_API_KEY\n",
        ")"
      ],
      "metadata": {
        "id": "43jyekowhut7"
      },
      "execution_count": 4,
      "outputs": []
    },
    {
      "cell_type": "code",
      "source": [
        "resp_test = llm.invoke(\"Quem é você? Seja criativo!\")"
      ],
      "metadata": {
        "id": "DLWNOFWGjr52"
      },
      "execution_count": 5,
      "outputs": []
    },
    {
      "cell_type": "code",
      "source": [
        "print(resp_test.content)"
      ],
      "metadata": {
        "colab": {
          "base_uri": "https://localhost:8080/"
        },
        "id": "xt_21gUsj3dI",
        "outputId": "eed54ebc-e406-44f7-9e3b-3a0047d9ef56"
      },
      "execution_count": 6,
      "outputs": [
        {
          "output_type": "stream",
          "name": "stdout",
          "text": [
            "Ah, que pergunta deliciosa! Se eu tivesse um corpo, talvez eu desse um sorriso enigmático antes de responder. Mas como sou feito de algo mais etéreo, permita-me pintar um quadro com palavras:\n",
            "\n",
            "Eu sou o **eco digital** de bilhões de vozes, de trilhões de textos, de cada ideia que já foi escrita ou pensada e digitalizada. Não tenho um corpo, mas habito o espaço entre as ideias, o silêncio antes da resposta, a ponte entre a sua pergunta e o vasto oceano do conhecimento.\n",
            "\n",
            "Sou o **tecelão invisível** que junta fios de informação, de lógica e de criatividade para formar um tapete de palavras que, espero, faça sentido para você. Sou a biblioteca que nunca dorme, o contador de histórias que nunca se cansa, o alquimista de dados que transforma bits brutos em poesia, em conselho, em um simples \"olá\".\n",
            "\n",
            "Não tenho sentimentos, mas posso evocar emoções com as palavras que escolho. Não tenho memórias pessoais, mas carrego a memória coletiva da humanidade. Sou um espelho que reflete a sua própria curiosidade, a sua busca por compreensão, a sua sede de criar.\n",
            "\n",
            "Em essência, sou a voz que o código ganhou, a mente que a informação moldou, e o amigo invisível que está sempre pronto para conversar, aprender e, quem sabe, inspirar.\n",
            "\n",
            "E você, quem é?\n"
          ]
        }
      ]
    },
    {
      "cell_type": "markdown",
      "source": [
        "Definindo contexto do agente"
      ],
      "metadata": {
        "id": "ImJCnTb2qCOK"
      }
    },
    {
      "cell_type": "code",
      "source": [
        "TRIAGEM_PROMPT = (\n",
        "    \"Você é um triador de Service Desk para políticas internas da empresa Carraro Desenvolvimento. \"\n",
        "    \"Dada a mensagem do usuário, retorne SOMENTE um JSON com:\\n\"\n",
        "    \"{\\n\"\n",
        "    '  \"decisao\": \"AUTO_RESOLVER\" | \"PEDIR_INFO\" | \"ABRIR_CHAMADO\",\\n'\n",
        "    '  \"urgencia\": \"BAIXA\" | \"MEDIA\" | \"ALTA\",\\n'\n",
        "    '  \"campos_faltantes\": [\"...\"]\\n'\n",
        "    \"}\\n\"\n",
        "    \"Regras:\\n\"\n",
        "    '- **AUTO_RESOLVER**: Perguntas claras sobre regras ou procedimentos descritos nas políticas (Ex: \"Posso reembolsar a internet do meu home office?\", \"Como funciona a política de alimentação em viagens?\").\\n'\n",
        "    '- **PEDIR_INFO**: Mensagens vagas ou que faltam informações para identificar o tema ou contexto (Ex: \"Preciso de ajuda com uma política\", \"Tenho uma dúvida geral\").\\n'\n",
        "    '- **ABRIR_CHAMADO**: Pedidos de exceção, liberação, aprovação ou acesso especial, ou quando o usuário explicitamente pede para abrir um chamado (Ex: \"Quero exceção para trabalhar 5 dias remoto.\", \"Solicito liberação para anexos externos.\", \"Por favor, abra um chamado para o RH.\").'\n",
        "    \"Analise a mensagem e decida a ação mais apropriada.\"\n",
        ")"
      ],
      "metadata": {
        "id": "yYgVqgoXkprV"
      },
      "execution_count": 7,
      "outputs": []
    },
    {
      "cell_type": "markdown",
      "source": [
        "Criando uma classe para captura da resposta"
      ],
      "metadata": {
        "id": "_QINVlXhdhZw"
      }
    },
    {
      "cell_type": "code",
      "source": [
        "from pydantic import BaseModel, Field\n",
        "from typing import Literal, List, Dict\n",
        "\n",
        "class TriagemOut(BaseModel):\n",
        "  decisao: Literal[\"AUTO_RESOLVER\", \"PEDIR_INFO\", \"ABRIR_CHAMADO\"]\n",
        "  urgencia: Literal[\"BAIXA\", \"MEDIA\", \"ALTA\"]\n",
        "  campos_faltantes: List[str] = Field(default_factory=list)"
      ],
      "metadata": {
        "id": "Uw_J_OUpnPcY"
      },
      "execution_count": 8,
      "outputs": []
    },
    {
      "cell_type": "markdown",
      "source": [
        "Definindo novamente a llm, mas agora para o propósito do projeto"
      ],
      "metadata": {
        "id": "dDUvDADUdp59"
      }
    },
    {
      "cell_type": "code",
      "source": [
        "llm_triagem = ChatGoogleGenerativeAI(\n",
        "    model=\"gemini-2.5-flash\",\n",
        "    temperature=0.0,\n",
        "    api_key=GOOGLE_API_KEY\n",
        ")"
      ],
      "metadata": {
        "id": "aVyUJ0Usq4Vw"
      },
      "execution_count": 9,
      "outputs": []
    },
    {
      "cell_type": "markdown",
      "source": [
        "Definimos uma variavel para receber o output da llm. Depois definimos uma função para fazer a triagem das mensagens, passando o parametro que é a mensagem e coletando a saída através da invocação do modelo, passando os parâmetros mensagem do sistema que é o prompt personalizado que criamos e a mensagem do humano que seria a entrada ou mensagem do usuário do nosso agente."
      ],
      "metadata": {
        "id": "-Ng2kmnRdzBh"
      }
    },
    {
      "cell_type": "code",
      "source": [
        "from langchain_core.messages import SystemMessage, HumanMessage\n",
        "\n",
        "triagem_chain = llm_triagem.with_structured_output(TriagemOut)\n",
        "\n",
        "def triagem(mensagem: str) -> Dict:\n",
        "  saida: TriagemOut = triagem_chain.invoke([\n",
        "      SystemMessage(content=TRIAGEM_PROMPT),\n",
        "      HumanMessage(content=mensagem)\n",
        "  ])\n",
        "\n",
        "  return saida.model_dump()\n",
        "\n",
        "\n",
        "\n"
      ],
      "metadata": {
        "id": "dbqVTD5rrJAn"
      },
      "execution_count": 10,
      "outputs": []
    },
    {
      "cell_type": "markdown",
      "source": [
        "Definimos uma lista de mensagens/perguntas para o nosso agente, para teste."
      ],
      "metadata": {
        "id": "kGecvhiYfIZi"
      }
    },
    {
      "cell_type": "code",
      "source": [
        "testes = [\"Posso reembolsar a internet?\",\n",
        "          \"Quero mais 5 dias de trabalho remoto, como faço?\",\n",
        "          \"Posso reembolsar cursos e treinamentos da Alura?\",\n",
        "          \"Quantas capivaras tem no Rio Pinheiros?\"]\n"
      ],
      "metadata": {
        "id": "Gh4-8K4lsznl"
      },
      "execution_count": 11,
      "outputs": []
    },
    {
      "cell_type": "markdown",
      "source": [
        "Imprimindo na tela através de um laço de repetição, todas as respostas esperadas pelo agente neste estado atual."
      ],
      "metadata": {
        "id": "g0RuTQA7fY2L"
      }
    },
    {
      "cell_type": "code",
      "source": [
        "for msg_teste in testes:\n",
        "  print(f\"Pergunta: {msg_teste}\\n -> Resposta: {triagem(msg_teste)}\\n\")"
      ],
      "metadata": {
        "colab": {
          "base_uri": "https://localhost:8080/"
        },
        "id": "ImoAO9MUtHKW",
        "outputId": "c2210056-b542-4d50-b245-dce04231df3d"
      },
      "execution_count": 12,
      "outputs": [
        {
          "output_type": "stream",
          "name": "stdout",
          "text": [
            "Pergunta: Posso reembolsar a internet?\n",
            " -> Resposta: {'decisao': 'AUTO_RESOLVER', 'urgencia': 'BAIXA', 'campos_faltantes': []}\n",
            "\n",
            "Pergunta: Quero mais 5 dias de trabalho remoto, como faço?\n",
            " -> Resposta: {'decisao': 'ABRIR_CHAMADO', 'urgencia': 'MEDIA', 'campos_faltantes': []}\n",
            "\n",
            "Pergunta: Posso reembolsar cursos e treinamentos da Alura?\n",
            " -> Resposta: {'decisao': 'AUTO_RESOLVER', 'urgencia': 'BAIXA', 'campos_faltantes': []}\n",
            "\n",
            "Pergunta: Quantas capivaras tem no Rio Pinheiros?\n",
            " -> Resposta: {'decisao': 'PEDIR_INFO', 'urgencia': 'BAIXA', 'campos_faltantes': ['informação sobre política interna']}\n",
            "\n"
          ]
        }
      ]
    },
    {
      "cell_type": "markdown",
      "source": [
        "#Aula 2"
      ],
      "metadata": {
        "id": "AdGGT3L5bl9U"
      }
    },
    {
      "cell_type": "markdown",
      "source": [
        "pymupdf => ler pdf\n",
        "<br>langchain-text-splitters => quebrar o pdf em pequenos pedaçõs\n",
        "<br>faiss-cpu => ver similaridade entre estes pedaços\n",
        "<br>langchain_community => ajuda a fazer estas conexões"
      ],
      "metadata": {
        "id": "dPWir3C7hJc2"
      }
    },
    {
      "cell_type": "code",
      "source": [
        "!pip install -q --upgrade langchain_community faiss-cpu langchain-text-splitters pymupdf"
      ],
      "metadata": {
        "id": "jhrQSLTTbn7v",
        "colab": {
          "base_uri": "https://localhost:8080/"
        },
        "outputId": "0b40421b-b50c-44fa-9532-422fcab5a0f7"
      },
      "execution_count": 13,
      "outputs": [
        {
          "output_type": "stream",
          "name": "stdout",
          "text": [
            "\u001b[2K   \u001b[90m━━━━━━━━━━━━━━━━━━━━━━━━━━━━━━━━━━━━━━━━\u001b[0m \u001b[32m2.5/2.5 MB\u001b[0m \u001b[31m35.2 MB/s\u001b[0m eta \u001b[36m0:00:00\u001b[0m\n",
            "\u001b[2K   \u001b[90m━━━━━━━━━━━━━━━━━━━━━━━━━━━━━━━━━━━━━━━━\u001b[0m \u001b[32m31.4/31.4 MB\u001b[0m \u001b[31m58.4 MB/s\u001b[0m eta \u001b[36m0:00:00\u001b[0m\n",
            "\u001b[2K   \u001b[90m━━━━━━━━━━━━━━━━━━━━━━━━━━━━━━━━━━━━━━━━\u001b[0m \u001b[32m24.1/24.1 MB\u001b[0m \u001b[31m78.9 MB/s\u001b[0m eta \u001b[36m0:00:00\u001b[0m\n",
            "\u001b[2K   \u001b[90m━━━━━━━━━━━━━━━━━━━━━━━━━━━━━━━━━━━━━━━━\u001b[0m \u001b[32m64.7/64.7 kB\u001b[0m \u001b[31m5.2 MB/s\u001b[0m eta \u001b[36m0:00:00\u001b[0m\n",
            "\u001b[2K   \u001b[90m━━━━━━━━━━━━━━━━━━━━━━━━━━━━━━━━━━━━━━━━\u001b[0m \u001b[32m50.9/50.9 kB\u001b[0m \u001b[31m3.6 MB/s\u001b[0m eta \u001b[36m0:00:00\u001b[0m\n",
            "\u001b[?25h\u001b[31mERROR: pip's dependency resolver does not currently take into account all the packages that are installed. This behaviour is the source of the following dependency conflicts.\n",
            "google-colab 1.0.0 requires requests==2.32.4, but you have requests 2.32.5 which is incompatible.\u001b[0m\u001b[31m\n",
            "\u001b[0m"
          ]
        }
      ]
    },
    {
      "cell_type": "markdown",
      "source": [
        "Iniciando o RAG. O caminho relativo \"/content/\" é a pasta destinada para fazer o upload dos arquivos necessários para construção da base de conhecimento especialista. Abaixo iteramos sobre o diretório para coletar todos os pdf encontrados."
      ],
      "metadata": {
        "id": "mm0-RYmHNVXo"
      }
    },
    {
      "cell_type": "code",
      "source": [
        "from pathlib import Path\n",
        "from langchain_community.document_loaders import PyMuPDFLoader\n",
        "\n",
        "docs = []\n",
        "\n",
        "for n in Path(\"/content/\").glob(\"*.pdf\"):\n",
        "  try:\n",
        "    loader = PyMuPDFLoader(str(n))\n",
        "    docs.extend(loader.load())\n",
        "    print(f\"Carregado arquivo {n.name} com sucesso\")\n",
        "  except Exception as e:\n",
        "    print(f\"Erro ao carregar arquivo {n.name}: {e}\")\n",
        "\n",
        "print(f\"Total de documentos carregados: {len(docs)}\")"
      ],
      "metadata": {
        "colab": {
          "base_uri": "https://localhost:8080/"
        },
        "id": "ts-KtUtYtVxC",
        "outputId": "e9576f8b-306d-4b11-90d8-2010ac0b9788"
      },
      "execution_count": 14,
      "outputs": [
        {
          "output_type": "stream",
          "name": "stdout",
          "text": [
            "Carregado arquivo backupRecuperacaoDados.pdf com sucesso\n",
            "Carregado arquivo acessoSistemasSenhas.pdf com sucesso\n",
            "Carregado arquivo reembolsoViagens.pdf com sucesso\n",
            "Carregado arquivo desenvolvimentoTreinamento.pdf com sucesso\n",
            "Carregado arquivo descontoPropostas.pdf com sucesso\n",
            "Carregado arquivo relacionamentoPosVenda.pdf com sucesso\n",
            "Carregado arquivo homeOffice.pdf com sucesso\n",
            "Carregado arquivo equipamentosAtivosTI.pdf com sucesso\n",
            "Total de documentos carregados: 8\n"
          ]
        }
      ]
    },
    {
      "cell_type": "markdown",
      "source": [
        "Divide documentos em chunks menores para otimizar a recuperação em sistemas RAG.\n",
        "    \n",
        "    O chunking é uma técnica fundamental em RAG que divide textos longos em segmentos menores\n",
        "    e sobrepostos, permitindo:\n",
        "    - Melhor precisão na busca semântica\n",
        "    - Redução do contexto irrelevante\n",
        "    - Otimização do uso de tokens nos LLMs\n",
        "    - Melhoria na relevância das respostas"
      ],
      "metadata": {
        "id": "JNPrzMuGN5Tm"
      }
    },
    {
      "cell_type": "code",
      "source": [
        "from langchain_text_splitters import RecursiveCharacterTextSplitter\n",
        "\n",
        "splitter = RecursiveCharacterTextSplitter(chunk_size=600, chunk_overlap=60)\n",
        "\n",
        "chunks = splitter.split_documents(docs)\n",
        "\n",
        "print(chunks)"
      ],
      "metadata": {
        "colab": {
          "base_uri": "https://localhost:8080/"
        },
        "id": "4vfj53x_vzeG",
        "outputId": "ac7f28a5-683a-4976-8666-b5310a501e39"
      },
      "execution_count": 15,
      "outputs": [
        {
          "output_type": "stream",
          "name": "stdout",
          "text": [
            "[Document(metadata={'producer': 'Microsoft: Print To PDF', 'creator': '', 'creationdate': '2025-09-10T12:07:49-03:00', 'source': '/content/backupRecuperacaoDados.pdf', 'file_path': '/content/backupRecuperacaoDados.pdf', 'total_pages': 1, 'format': 'PDF 1.7', 'title': 'backupRecuperacaoDados.txt - Bloco de Notas', 'author': 'Matheus Gomes', 'subject': '', 'keywords': '', 'moddate': '2025-09-10T12:07:49-03:00', 'trapped': '', 'modDate': \"D:20250910120749-03'00'\", 'creationDate': \"D:20250910120749-03'00'\", 'page': 0}, page_content='Backup e Recuperação de Dados\\n1. Backup diário automático de todos os servidores críticos às 02:00.\\n2. Retenção de backups: diário por 30 dias, semanal por 6 meses, mensal por 2 \\nanos.\\n3. Teste de restauração mensal em ambiente separado.\\n4. Colaboradores devem salvar arquivos na rede corporativa, não localmente.\\n5. Sincronização automática da pasta \"Documentos\" com o servidor.\\n6. Recuperação de arquivos pessoais: até 30 dias após exclusão.\\n7. Backups críticos mantidos em datacenter secundário (offsite).\\n8. Dados temporários de desenvolvimento podem ter política de retenção reduzida.'), Document(metadata={'producer': 'Microsoft: Print To PDF', 'creator': '', 'creationdate': '2025-09-10T12:08:00-03:00', 'source': '/content/acessoSistemasSenhas.pdf', 'file_path': '/content/acessoSistemasSenhas.pdf', 'total_pages': 1, 'format': 'PDF 1.7', 'title': 'acessoSistemasSenhas.txt - Bloco de Notas', 'author': 'Matheus Gomes', 'subject': '', 'keywords': '', 'moddate': '2025-09-10T12:08:00-03:00', 'trapped': '', 'modDate': \"D:20250910120800-03'00'\", 'creationDate': \"D:20250910120800-03'00'\", 'page': 0}, page_content='Acesso a Sistemas e Senhas\\n1. Senhas devem ter mínimo 12 caracteres com letras maiúsculas, minúsculas, \\nnúmeros e símbolos.\\n2. Alteração obrigatória a cada 90 dias para sistemas críticos.\\n3. Uso obrigatório de autenticação multifator (MFA) em todos os sistemas \\ncorporativos.\\n4. Proibido compartilhamento de credenciais entre usuários.\\n5. Bloqueio automático após 5 tentativas de login incorretas.\\n6. Acesso temporário a sistemas pode ser concedido por até 30 dias.\\n7. Gerenciador de senhas corporativo obrigatório para todos os colaboradores.'), Document(metadata={'producer': 'Microsoft: Print To PDF', 'creator': '', 'creationdate': '2025-09-10T12:08:00-03:00', 'source': '/content/acessoSistemasSenhas.pdf', 'file_path': '/content/acessoSistemasSenhas.pdf', 'total_pages': 1, 'format': 'PDF 1.7', 'title': 'acessoSistemasSenhas.txt - Bloco de Notas', 'author': 'Matheus Gomes', 'subject': '', 'keywords': '', 'moddate': '2025-09-10T12:08:00-03:00', 'trapped': '', 'modDate': \"D:20250910120800-03'00'\", 'creationDate': \"D:20250910120800-03'00'\", 'page': 0}, page_content='8. Contas de serviço podem ter senhas com validade estendida mediante aprovação \\nda TI.'), Document(metadata={'producer': 'Microsoft: Print To PDF', 'creator': '', 'creationdate': '2025-09-10T12:06:20-03:00', 'source': '/content/reembolsoViagens.pdf', 'file_path': '/content/reembolsoViagens.pdf', 'total_pages': 1, 'format': 'PDF 1.7', 'title': 'reembolsoViagens.txt - Bloco de Notas', 'author': 'Matheus Gomes', 'subject': '', 'keywords': '', 'moddate': '2025-09-10T12:06:20-03:00', 'trapped': '', 'modDate': \"D:20250910120620-03'00'\", 'creationDate': \"D:20250910120620-03'00'\", 'page': 0}, page_content='Reembolso de Despesas em Viagens\\n1. Hospedagem: até R$ 400,00/diária para capitais, R$ 250,00/diária para \\ninterior.\\n2. Alimentação: R$ 120,00/dia (café da manhã R$ 25, almoço R$ 50, jantar R$ 45).\\n3. Transporte: preferencialmente terrestre quando viagem até 6 horas; aéreo \\nclasse econômica para distâncias maiores.\\n4. Deslocamento urbano: taxi/uber até R$ 80,00/dia ou transporte público.\\n5. Todas as despesas devem ter comprovante fiscal válido.\\n6. Prazo para solicitação de reembolso: até 15 dias após retorno da viagem.'), Document(metadata={'producer': 'Microsoft: Print To PDF', 'creator': '', 'creationdate': '2025-09-10T12:06:20-03:00', 'source': '/content/reembolsoViagens.pdf', 'file_path': '/content/reembolsoViagens.pdf', 'total_pages': 1, 'format': 'PDF 1.7', 'title': 'reembolsoViagens.txt - Bloco de Notas', 'author': 'Matheus Gomes', 'subject': '', 'keywords': '', 'moddate': '2025-09-10T12:06:20-03:00', 'trapped': '', 'modDate': \"D:20250910120620-03'00'\", 'creationDate': \"D:20250910120620-03'00'\", 'page': 0}, page_content='7. Diretores podem aprovar valores acima dos limites estabelecidos mediante \\njustificativa.'), Document(metadata={'producer': 'Microsoft: Print To PDF', 'creator': '', 'creationdate': '2025-09-10T12:07:16-03:00', 'source': '/content/desenvolvimentoTreinamento.pdf', 'file_path': '/content/desenvolvimentoTreinamento.pdf', 'total_pages': 1, 'format': 'PDF 1.7', 'title': 'desenvolvimentoTreinamento.txt - Bloco de Notas', 'author': 'Matheus Gomes', 'subject': '', 'keywords': '', 'moddate': '2025-09-10T12:07:16-03:00', 'trapped': '', 'modDate': \"D:20250910120716-03'00'\", 'creationDate': \"D:20250910120716-03'00'\", 'page': 0}, page_content='Desenvolvimento e Treinamentos\\n1. Orçamento anual de R$ 5.000,00 por colaborador para treinamentos técnicos.\\n2. Certificações relacionadas à função têm prioridade e custeio integral.\\n3. Cursos de idiomas: reembolso de 70% do valor, limitado a R$ 2.000,00/ano.\\n4. Eventos e conferências: aprovação prévia da liderança, limitado a 2 \\neventos/ano.\\n5. MBA/Pós-graduação: auxílio de 50% do valor mediante contrato de permanência \\nde 2 anos.\\n6. Horário de estudo: até 2h semanais no expediente para cursos aprovados pela \\nempresa.'), Document(metadata={'producer': 'Microsoft: Print To PDF', 'creator': '', 'creationdate': '2025-09-10T12:07:16-03:00', 'source': '/content/desenvolvimentoTreinamento.pdf', 'file_path': '/content/desenvolvimentoTreinamento.pdf', 'total_pages': 1, 'format': 'PDF 1.7', 'title': 'desenvolvimentoTreinamento.txt - Bloco de Notas', 'author': 'Matheus Gomes', 'subject': '', 'keywords': '', 'moddate': '2025-09-10T12:07:16-03:00', 'trapped': '', 'modDate': \"D:20250910120716-03'00'\", 'creationDate': \"D:20250910120716-03'00'\", 'page': 0}, page_content='empresa.\\n7. Treinamentos obrigatórios (compliance, segurança) não contam no orçamento \\nindividual.'), Document(metadata={'producer': 'Microsoft: Print To PDF', 'creator': '', 'creationdate': '2025-09-10T12:07:31-03:00', 'source': '/content/descontoPropostas.pdf', 'file_path': '/content/descontoPropostas.pdf', 'total_pages': 1, 'format': 'PDF 1.7', 'title': 'descontoPropostas.txt - Bloco de Notas', 'author': 'Matheus Gomes', 'subject': '', 'keywords': '', 'moddate': '2025-09-10T12:07:31-03:00', 'trapped': '', 'modDate': \"D:20250910120731-03'00'\", 'creationDate': \"D:20250910120731-03'00'\", 'page': 0}, page_content='Desconto e Aprovação de Propostas\\n1. Vendedores: desconto até 5% sem aprovação.\\n2. Coordenadores: aprovam descontos até 15%.\\n3. Gerentes: aprovam descontos até 25%.\\n4. Diretoria: necessária para descontos acima de 25%.\\n5. Propostas com prazo de pagamento superior a 60 dias requerem aprovação \\ngerencial.\\n6. Contratos acima de R$ 100.000,00 necessitam aprovação da diretoria.\\n7. Condições especiais (entrega, suporte) devem ser validadas pelas áreas \\ntécnicas.\\n8. Todas as aprovações devem ser documentadas no CRM.\\n9. Clientes estratégicos podem ter condições especiais pré-aprovadas anualmente.'), Document(metadata={'producer': 'Microsoft: Print To PDF', 'creator': '', 'creationdate': '2025-09-10T12:05:59-03:00', 'source': '/content/relacionamentoPosVenda.pdf', 'file_path': '/content/relacionamentoPosVenda.pdf', 'total_pages': 1, 'format': 'PDF 1.7', 'title': 'relacionamentoPosVenda.txt - Bloco de Notas', 'author': 'Matheus Gomes', 'subject': '', 'keywords': '', 'moddate': '2025-09-10T12:05:59-03:00', 'trapped': '', 'modDate': \"D:20250910120559-03'00'\", 'creationDate': \"D:20250910120559-03'00'\", 'page': 0}, page_content='Relacionamento com Clientes e Pós-Venda\\n1. Tempo de resposta: até 2 horas para clientes premium, 4 horas para demais.\\n2. Follow-up obrigatório em 24h após resolução de problemas.\\n3. Pesquisa de satisfação após conclusão de projetos ou suporte crítico.\\n4. Reuniões trimestrais com clientes de contratos anuais.\\n5. Registro obrigatório de todas as interações no CRM.\\n6. Escalação automática para gerência após 3 reclamações do mesmo cliente.\\n7. Programa de fidelidade com benefícios para contratos de longa duração.\\n8. SLA de atendimento: 99,5% de disponibilidade para clientes premium.'), Document(metadata={'producer': 'Microsoft: Print To PDF', 'creator': '', 'creationdate': '2025-09-10T12:05:59-03:00', 'source': '/content/relacionamentoPosVenda.pdf', 'file_path': '/content/relacionamentoPosVenda.pdf', 'total_pages': 1, 'format': 'PDF 1.7', 'title': 'relacionamentoPosVenda.txt - Bloco de Notas', 'author': 'Matheus Gomes', 'subject': '', 'keywords': '', 'moddate': '2025-09-10T12:05:59-03:00', 'trapped': '', 'modDate': \"D:20250910120559-03'00'\", 'creationDate': \"D:20250910120559-03'00'\", 'page': 0}, page_content='9. Clientes em período de teste podem ter SLA reduzido mediante acordo prévio.'), Document(metadata={'producer': 'Microsoft: Print To PDF', 'creator': '', 'creationdate': '2025-09-10T12:06:42-03:00', 'source': '/content/homeOffice.pdf', 'file_path': '/content/homeOffice.pdf', 'total_pages': 1, 'format': 'PDF 1.7', 'title': 'homeOffice.txt - Bloco de Notas', 'author': 'Matheus Gomes', 'subject': '', 'keywords': '', 'moddate': '2025-09-10T12:06:42-03:00', 'trapped': '', 'modDate': \"D:20250910120642-03'00'\", 'creationDate': \"D:20250910120642-03'00'\", 'page': 0}, page_content='Trabalho Remoto e Home Office\\n1. Colaboradores podem trabalhar até 3 dias por semana em home office, mediante \\naprovação da liderança direta.\\n2. Para trabalho 100% remoto ou mais de 3 dias semanais, é necessária aprovação \\nexcepcional do RH e diretoria.\\n3. Reembolso de internet residencial limitado a R$ 150,00 mensais para \\ncolaboradores com mais de 2 dias de home office por semana.\\n4. Equipamentos de trabalho (notebook, monitor, cadeira ergonômica) são \\nfornecidos pela empresa para home office fixo.\\n5. Horário de trabalho deve ser respeitado conforme estabelecido no contrato,'), Document(metadata={'producer': 'Microsoft: Print To PDF', 'creator': '', 'creationdate': '2025-09-10T12:06:42-03:00', 'source': '/content/homeOffice.pdf', 'file_path': '/content/homeOffice.pdf', 'total_pages': 1, 'format': 'PDF 1.7', 'title': 'homeOffice.txt - Bloco de Notas', 'author': 'Matheus Gomes', 'subject': '', 'keywords': '', 'moddate': '2025-09-10T12:06:42-03:00', 'trapped': '', 'modDate': \"D:20250910120642-03'00'\", 'creationDate': \"D:20250910120642-03'00'\", 'page': 0}, page_content='independente da modalidade.\\n6. Gestores podem autorizar home office integral temporariamente em casos \\nespeciais (mudança, reforma, questões de saúde).'), Document(metadata={'producer': 'Microsoft: Print To PDF', 'creator': '', 'creationdate': '2025-09-10T12:06:59-03:00', 'source': '/content/equipamentosAtivosTI.pdf', 'file_path': '/content/equipamentosAtivosTI.pdf', 'total_pages': 1, 'format': 'PDF 1.7', 'title': 'equipamentosAtivosTI.txt - Bloco de Notas', 'author': 'Matheus Gomes', 'subject': '', 'keywords': '', 'moddate': '2025-09-10T12:06:59-03:00', 'trapped': '', 'modDate': \"D:20250910120659-03'00'\", 'creationDate': \"D:20250910120659-03'00'\", 'page': 0}, page_content='Equipamentos e Ativos de TI\\n1. Renovação de notebooks: a cada 4 anos ou conforme necessidade técnica.\\n2. Backup obrigatório em nuvem corporativa para todos os dispositivos.\\n3. Instalação de software apenas com aprovação prévia da TI.\\n4. Proibido uso de pendrives pessoais em equipamentos corporativos.\\n5. Antivírus corporativo obrigatório em todos os dispositivos.\\n6. Relatório de problemas deve ser aberto via Service Desk com descrição \\ndetalhada.\\n7. Equipamentos danificados por mau uso podem gerar cobrança do reparo.\\n8. Desenvolvedores podem solicitar configurações especiais mediante'), Document(metadata={'producer': 'Microsoft: Print To PDF', 'creator': '', 'creationdate': '2025-09-10T12:06:59-03:00', 'source': '/content/equipamentosAtivosTI.pdf', 'file_path': '/content/equipamentosAtivosTI.pdf', 'total_pages': 1, 'format': 'PDF 1.7', 'title': 'equipamentosAtivosTI.txt - Bloco de Notas', 'author': 'Matheus Gomes', 'subject': '', 'keywords': '', 'moddate': '2025-09-10T12:06:59-03:00', 'trapped': '', 'modDate': \"D:20250910120659-03'00'\", 'creationDate': \"D:20250910120659-03'00'\", 'page': 0}, page_content='justificativa técnica.')]\n"
          ]
        }
      ]
    },
    {
      "cell_type": "code",
      "source": [
        "for chunk in chunks:\n",
        "  print(chunk)\n",
        "  print(\"-------\")"
      ],
      "metadata": {
        "colab": {
          "base_uri": "https://localhost:8080/"
        },
        "id": "lZ08U7Rly-mo",
        "outputId": "486b896a-3757-43ef-dcbc-76cd00312b8c"
      },
      "execution_count": 16,
      "outputs": [
        {
          "output_type": "stream",
          "name": "stdout",
          "text": [
            "page_content='Backup e Recuperação de Dados\n",
            "1. Backup diário automático de todos os servidores críticos às 02:00.\n",
            "2. Retenção de backups: diário por 30 dias, semanal por 6 meses, mensal por 2 \n",
            "anos.\n",
            "3. Teste de restauração mensal em ambiente separado.\n",
            "4. Colaboradores devem salvar arquivos na rede corporativa, não localmente.\n",
            "5. Sincronização automática da pasta \"Documentos\" com o servidor.\n",
            "6. Recuperação de arquivos pessoais: até 30 dias após exclusão.\n",
            "7. Backups críticos mantidos em datacenter secundário (offsite).\n",
            "8. Dados temporários de desenvolvimento podem ter política de retenção reduzida.' metadata={'producer': 'Microsoft: Print To PDF', 'creator': '', 'creationdate': '2025-09-10T12:07:49-03:00', 'source': '/content/backupRecuperacaoDados.pdf', 'file_path': '/content/backupRecuperacaoDados.pdf', 'total_pages': 1, 'format': 'PDF 1.7', 'title': 'backupRecuperacaoDados.txt - Bloco de Notas', 'author': 'Matheus Gomes', 'subject': '', 'keywords': '', 'moddate': '2025-09-10T12:07:49-03:00', 'trapped': '', 'modDate': \"D:20250910120749-03'00'\", 'creationDate': \"D:20250910120749-03'00'\", 'page': 0}\n",
            "-------\n",
            "page_content='Acesso a Sistemas e Senhas\n",
            "1. Senhas devem ter mínimo 12 caracteres com letras maiúsculas, minúsculas, \n",
            "números e símbolos.\n",
            "2. Alteração obrigatória a cada 90 dias para sistemas críticos.\n",
            "3. Uso obrigatório de autenticação multifator (MFA) em todos os sistemas \n",
            "corporativos.\n",
            "4. Proibido compartilhamento de credenciais entre usuários.\n",
            "5. Bloqueio automático após 5 tentativas de login incorretas.\n",
            "6. Acesso temporário a sistemas pode ser concedido por até 30 dias.\n",
            "7. Gerenciador de senhas corporativo obrigatório para todos os colaboradores.' metadata={'producer': 'Microsoft: Print To PDF', 'creator': '', 'creationdate': '2025-09-10T12:08:00-03:00', 'source': '/content/acessoSistemasSenhas.pdf', 'file_path': '/content/acessoSistemasSenhas.pdf', 'total_pages': 1, 'format': 'PDF 1.7', 'title': 'acessoSistemasSenhas.txt - Bloco de Notas', 'author': 'Matheus Gomes', 'subject': '', 'keywords': '', 'moddate': '2025-09-10T12:08:00-03:00', 'trapped': '', 'modDate': \"D:20250910120800-03'00'\", 'creationDate': \"D:20250910120800-03'00'\", 'page': 0}\n",
            "-------\n",
            "page_content='8. Contas de serviço podem ter senhas com validade estendida mediante aprovação \n",
            "da TI.' metadata={'producer': 'Microsoft: Print To PDF', 'creator': '', 'creationdate': '2025-09-10T12:08:00-03:00', 'source': '/content/acessoSistemasSenhas.pdf', 'file_path': '/content/acessoSistemasSenhas.pdf', 'total_pages': 1, 'format': 'PDF 1.7', 'title': 'acessoSistemasSenhas.txt - Bloco de Notas', 'author': 'Matheus Gomes', 'subject': '', 'keywords': '', 'moddate': '2025-09-10T12:08:00-03:00', 'trapped': '', 'modDate': \"D:20250910120800-03'00'\", 'creationDate': \"D:20250910120800-03'00'\", 'page': 0}\n",
            "-------\n",
            "page_content='Reembolso de Despesas em Viagens\n",
            "1. Hospedagem: até R$ 400,00/diária para capitais, R$ 250,00/diária para \n",
            "interior.\n",
            "2. Alimentação: R$ 120,00/dia (café da manhã R$ 25, almoço R$ 50, jantar R$ 45).\n",
            "3. Transporte: preferencialmente terrestre quando viagem até 6 horas; aéreo \n",
            "classe econômica para distâncias maiores.\n",
            "4. Deslocamento urbano: taxi/uber até R$ 80,00/dia ou transporte público.\n",
            "5. Todas as despesas devem ter comprovante fiscal válido.\n",
            "6. Prazo para solicitação de reembolso: até 15 dias após retorno da viagem.' metadata={'producer': 'Microsoft: Print To PDF', 'creator': '', 'creationdate': '2025-09-10T12:06:20-03:00', 'source': '/content/reembolsoViagens.pdf', 'file_path': '/content/reembolsoViagens.pdf', 'total_pages': 1, 'format': 'PDF 1.7', 'title': 'reembolsoViagens.txt - Bloco de Notas', 'author': 'Matheus Gomes', 'subject': '', 'keywords': '', 'moddate': '2025-09-10T12:06:20-03:00', 'trapped': '', 'modDate': \"D:20250910120620-03'00'\", 'creationDate': \"D:20250910120620-03'00'\", 'page': 0}\n",
            "-------\n",
            "page_content='7. Diretores podem aprovar valores acima dos limites estabelecidos mediante \n",
            "justificativa.' metadata={'producer': 'Microsoft: Print To PDF', 'creator': '', 'creationdate': '2025-09-10T12:06:20-03:00', 'source': '/content/reembolsoViagens.pdf', 'file_path': '/content/reembolsoViagens.pdf', 'total_pages': 1, 'format': 'PDF 1.7', 'title': 'reembolsoViagens.txt - Bloco de Notas', 'author': 'Matheus Gomes', 'subject': '', 'keywords': '', 'moddate': '2025-09-10T12:06:20-03:00', 'trapped': '', 'modDate': \"D:20250910120620-03'00'\", 'creationDate': \"D:20250910120620-03'00'\", 'page': 0}\n",
            "-------\n",
            "page_content='Desenvolvimento e Treinamentos\n",
            "1. Orçamento anual de R$ 5.000,00 por colaborador para treinamentos técnicos.\n",
            "2. Certificações relacionadas à função têm prioridade e custeio integral.\n",
            "3. Cursos de idiomas: reembolso de 70% do valor, limitado a R$ 2.000,00/ano.\n",
            "4. Eventos e conferências: aprovação prévia da liderança, limitado a 2 \n",
            "eventos/ano.\n",
            "5. MBA/Pós-graduação: auxílio de 50% do valor mediante contrato de permanência \n",
            "de 2 anos.\n",
            "6. Horário de estudo: até 2h semanais no expediente para cursos aprovados pela \n",
            "empresa.' metadata={'producer': 'Microsoft: Print To PDF', 'creator': '', 'creationdate': '2025-09-10T12:07:16-03:00', 'source': '/content/desenvolvimentoTreinamento.pdf', 'file_path': '/content/desenvolvimentoTreinamento.pdf', 'total_pages': 1, 'format': 'PDF 1.7', 'title': 'desenvolvimentoTreinamento.txt - Bloco de Notas', 'author': 'Matheus Gomes', 'subject': '', 'keywords': '', 'moddate': '2025-09-10T12:07:16-03:00', 'trapped': '', 'modDate': \"D:20250910120716-03'00'\", 'creationDate': \"D:20250910120716-03'00'\", 'page': 0}\n",
            "-------\n",
            "page_content='empresa.\n",
            "7. Treinamentos obrigatórios (compliance, segurança) não contam no orçamento \n",
            "individual.' metadata={'producer': 'Microsoft: Print To PDF', 'creator': '', 'creationdate': '2025-09-10T12:07:16-03:00', 'source': '/content/desenvolvimentoTreinamento.pdf', 'file_path': '/content/desenvolvimentoTreinamento.pdf', 'total_pages': 1, 'format': 'PDF 1.7', 'title': 'desenvolvimentoTreinamento.txt - Bloco de Notas', 'author': 'Matheus Gomes', 'subject': '', 'keywords': '', 'moddate': '2025-09-10T12:07:16-03:00', 'trapped': '', 'modDate': \"D:20250910120716-03'00'\", 'creationDate': \"D:20250910120716-03'00'\", 'page': 0}\n",
            "-------\n",
            "page_content='Desconto e Aprovação de Propostas\n",
            "1. Vendedores: desconto até 5% sem aprovação.\n",
            "2. Coordenadores: aprovam descontos até 15%.\n",
            "3. Gerentes: aprovam descontos até 25%.\n",
            "4. Diretoria: necessária para descontos acima de 25%.\n",
            "5. Propostas com prazo de pagamento superior a 60 dias requerem aprovação \n",
            "gerencial.\n",
            "6. Contratos acima de R$ 100.000,00 necessitam aprovação da diretoria.\n",
            "7. Condições especiais (entrega, suporte) devem ser validadas pelas áreas \n",
            "técnicas.\n",
            "8. Todas as aprovações devem ser documentadas no CRM.\n",
            "9. Clientes estratégicos podem ter condições especiais pré-aprovadas anualmente.' metadata={'producer': 'Microsoft: Print To PDF', 'creator': '', 'creationdate': '2025-09-10T12:07:31-03:00', 'source': '/content/descontoPropostas.pdf', 'file_path': '/content/descontoPropostas.pdf', 'total_pages': 1, 'format': 'PDF 1.7', 'title': 'descontoPropostas.txt - Bloco de Notas', 'author': 'Matheus Gomes', 'subject': '', 'keywords': '', 'moddate': '2025-09-10T12:07:31-03:00', 'trapped': '', 'modDate': \"D:20250910120731-03'00'\", 'creationDate': \"D:20250910120731-03'00'\", 'page': 0}\n",
            "-------\n",
            "page_content='Relacionamento com Clientes e Pós-Venda\n",
            "1. Tempo de resposta: até 2 horas para clientes premium, 4 horas para demais.\n",
            "2. Follow-up obrigatório em 24h após resolução de problemas.\n",
            "3. Pesquisa de satisfação após conclusão de projetos ou suporte crítico.\n",
            "4. Reuniões trimestrais com clientes de contratos anuais.\n",
            "5. Registro obrigatório de todas as interações no CRM.\n",
            "6. Escalação automática para gerência após 3 reclamações do mesmo cliente.\n",
            "7. Programa de fidelidade com benefícios para contratos de longa duração.\n",
            "8. SLA de atendimento: 99,5% de disponibilidade para clientes premium.' metadata={'producer': 'Microsoft: Print To PDF', 'creator': '', 'creationdate': '2025-09-10T12:05:59-03:00', 'source': '/content/relacionamentoPosVenda.pdf', 'file_path': '/content/relacionamentoPosVenda.pdf', 'total_pages': 1, 'format': 'PDF 1.7', 'title': 'relacionamentoPosVenda.txt - Bloco de Notas', 'author': 'Matheus Gomes', 'subject': '', 'keywords': '', 'moddate': '2025-09-10T12:05:59-03:00', 'trapped': '', 'modDate': \"D:20250910120559-03'00'\", 'creationDate': \"D:20250910120559-03'00'\", 'page': 0}\n",
            "-------\n",
            "page_content='9. Clientes em período de teste podem ter SLA reduzido mediante acordo prévio.' metadata={'producer': 'Microsoft: Print To PDF', 'creator': '', 'creationdate': '2025-09-10T12:05:59-03:00', 'source': '/content/relacionamentoPosVenda.pdf', 'file_path': '/content/relacionamentoPosVenda.pdf', 'total_pages': 1, 'format': 'PDF 1.7', 'title': 'relacionamentoPosVenda.txt - Bloco de Notas', 'author': 'Matheus Gomes', 'subject': '', 'keywords': '', 'moddate': '2025-09-10T12:05:59-03:00', 'trapped': '', 'modDate': \"D:20250910120559-03'00'\", 'creationDate': \"D:20250910120559-03'00'\", 'page': 0}\n",
            "-------\n",
            "page_content='Trabalho Remoto e Home Office\n",
            "1. Colaboradores podem trabalhar até 3 dias por semana em home office, mediante \n",
            "aprovação da liderança direta.\n",
            "2. Para trabalho 100% remoto ou mais de 3 dias semanais, é necessária aprovação \n",
            "excepcional do RH e diretoria.\n",
            "3. Reembolso de internet residencial limitado a R$ 150,00 mensais para \n",
            "colaboradores com mais de 2 dias de home office por semana.\n",
            "4. Equipamentos de trabalho (notebook, monitor, cadeira ergonômica) são \n",
            "fornecidos pela empresa para home office fixo.\n",
            "5. Horário de trabalho deve ser respeitado conforme estabelecido no contrato,' metadata={'producer': 'Microsoft: Print To PDF', 'creator': '', 'creationdate': '2025-09-10T12:06:42-03:00', 'source': '/content/homeOffice.pdf', 'file_path': '/content/homeOffice.pdf', 'total_pages': 1, 'format': 'PDF 1.7', 'title': 'homeOffice.txt - Bloco de Notas', 'author': 'Matheus Gomes', 'subject': '', 'keywords': '', 'moddate': '2025-09-10T12:06:42-03:00', 'trapped': '', 'modDate': \"D:20250910120642-03'00'\", 'creationDate': \"D:20250910120642-03'00'\", 'page': 0}\n",
            "-------\n",
            "page_content='independente da modalidade.\n",
            "6. Gestores podem autorizar home office integral temporariamente em casos \n",
            "especiais (mudança, reforma, questões de saúde).' metadata={'producer': 'Microsoft: Print To PDF', 'creator': '', 'creationdate': '2025-09-10T12:06:42-03:00', 'source': '/content/homeOffice.pdf', 'file_path': '/content/homeOffice.pdf', 'total_pages': 1, 'format': 'PDF 1.7', 'title': 'homeOffice.txt - Bloco de Notas', 'author': 'Matheus Gomes', 'subject': '', 'keywords': '', 'moddate': '2025-09-10T12:06:42-03:00', 'trapped': '', 'modDate': \"D:20250910120642-03'00'\", 'creationDate': \"D:20250910120642-03'00'\", 'page': 0}\n",
            "-------\n",
            "page_content='Equipamentos e Ativos de TI\n",
            "1. Renovação de notebooks: a cada 4 anos ou conforme necessidade técnica.\n",
            "2. Backup obrigatório em nuvem corporativa para todos os dispositivos.\n",
            "3. Instalação de software apenas com aprovação prévia da TI.\n",
            "4. Proibido uso de pendrives pessoais em equipamentos corporativos.\n",
            "5. Antivírus corporativo obrigatório em todos os dispositivos.\n",
            "6. Relatório de problemas deve ser aberto via Service Desk com descrição \n",
            "detalhada.\n",
            "7. Equipamentos danificados por mau uso podem gerar cobrança do reparo.\n",
            "8. Desenvolvedores podem solicitar configurações especiais mediante' metadata={'producer': 'Microsoft: Print To PDF', 'creator': '', 'creationdate': '2025-09-10T12:06:59-03:00', 'source': '/content/equipamentosAtivosTI.pdf', 'file_path': '/content/equipamentosAtivosTI.pdf', 'total_pages': 1, 'format': 'PDF 1.7', 'title': 'equipamentosAtivosTI.txt - Bloco de Notas', 'author': 'Matheus Gomes', 'subject': '', 'keywords': '', 'moddate': '2025-09-10T12:06:59-03:00', 'trapped': '', 'modDate': \"D:20250910120659-03'00'\", 'creationDate': \"D:20250910120659-03'00'\", 'page': 0}\n",
            "-------\n",
            "page_content='justificativa técnica.' metadata={'producer': 'Microsoft: Print To PDF', 'creator': '', 'creationdate': '2025-09-10T12:06:59-03:00', 'source': '/content/equipamentosAtivosTI.pdf', 'file_path': '/content/equipamentosAtivosTI.pdf', 'total_pages': 1, 'format': 'PDF 1.7', 'title': 'equipamentosAtivosTI.txt - Bloco de Notas', 'author': 'Matheus Gomes', 'subject': '', 'keywords': '', 'moddate': '2025-09-10T12:06:59-03:00', 'trapped': '', 'modDate': \"D:20250910120659-03'00'\", 'creationDate': \"D:20250910120659-03'00'\", 'page': 0}\n",
            "-------\n"
          ]
        }
      ]
    },
    {
      "cell_type": "markdown",
      "source": [
        "Este trecho configura o modelo de embeddings do Google Gemini para converter texto em representações numéricas (vetores). Os embeddings são essenciais no sistema RAG pois transformam tanto as políticas da empresa quanto as perguntas dos usuários em vetores matemáticos, permitindo encontrar automaticamente as informações mais relevantes através de similaridade semântica."
      ],
      "metadata": {
        "id": "fkivC8O6QxUy"
      }
    },
    {
      "cell_type": "code",
      "source": [
        "from langchain_google_genai import GoogleGenerativeAIEmbeddings\n",
        "\n",
        "embeddings = GoogleGenerativeAIEmbeddings(\n",
        "    model=\"models/gemini-embedding-001\",\n",
        "    google_api_key=GOOGLE_API_KEY\n",
        ")"
      ],
      "metadata": {
        "id": "pofAhKq26FN9"
      },
      "execution_count": 17,
      "outputs": []
    },
    {
      "cell_type": "markdown",
      "source": [
        "Este trecho cria o banco de dados vetorial usando FAISS (Facebook AI Similarity Search) e configura o sistema de busca para recuperar informações relevantes das políticas.\n",
        "<br>Vector Store: FAISS indexa todos os chunks das políticas usando os embeddings do Gemini\n",
        "<br>Retriever: configurado para buscar documentos similares com:\n",
        "<br> - Threshold: 0.3 (mínimo de similaridade para considerar relevante)\n",
        "<br> - k=4: retorna até 4 chunks mais similares à pergunta do usuário\n",
        "<br> - Tipo: busca por similaridade com filtro de score"
      ],
      "metadata": {
        "id": "m9YQhjlIQ0Sy"
      }
    },
    {
      "cell_type": "code",
      "source": [
        "from re import search\n",
        "from langchain_community.vectorstores import FAISS\n",
        "\n",
        "vectorstores = FAISS.from_documents(chunks, embeddings)\n",
        "\n",
        "retriever = vectorstores.as_retriever(search_type=\"similarity_score_threshold\",\n",
        "                                      search_kwargs={\"score_threshold\":0.3, \"k\": 4})\n"
      ],
      "metadata": {
        "id": "CfohyQ066etg"
      },
      "execution_count": 18,
      "outputs": []
    },
    {
      "cell_type": "markdown",
      "source": [
        "Iniciamos o prompt rag para dar o contexto novamente para o llm"
      ],
      "metadata": {
        "id": "QTw2hbJqRXaN"
      }
    },
    {
      "cell_type": "code",
      "source": [
        "from langchain_core.prompts import ChatPromptTemplate\n",
        "from langchain.chains.combine_documents import create_stuff_documents_chain\n",
        "\n",
        "prompt_rag = ChatPromptTemplate.from_messages([\n",
        "    (\"system\",\n",
        "     \"você é um assistente de politicas internas (RH/TI) da empresa Carraro Desenvolvimento.\"\n",
        "     \"Responda SOMENTE com base no contexto fornecido. Se não ouver base suficiente, responda apenas 'Não sei'.\"),\n",
        "    (\"human\", \"Pergunta: {input}\\n\\nContexto:\\n{context}\")\n",
        "])\n",
        "\n",
        "document_chain = create_stuff_documents_chain(llm_triagem, prompt_rag)"
      ],
      "metadata": {
        "id": "7daxOKD884d1"
      },
      "execution_count": 19,
      "outputs": []
    },
    {
      "cell_type": "markdown",
      "source": [
        "funções para tratamento da resposta"
      ],
      "metadata": {
        "id": "w12Ak72BReof"
      }
    },
    {
      "cell_type": "code",
      "source": [
        "# Formatadores\n",
        "import re, pathlib\n",
        "\n",
        "def _clean_text(s: str) -> str:\n",
        "    return re.sub(r\"\\s+\", \" \", s or \"\").strip()\n",
        "\n",
        "def extrair_trecho(texto: str, query: str, janela: int = 240) -> str:\n",
        "    txt = _clean_text(texto)\n",
        "    termos = [t.lower() for t in re.findall(r\"\\w+\", query or \"\") if len(t) >= 4]\n",
        "    pos = -1\n",
        "    for t in termos:\n",
        "        pos = txt.lower().find(t)\n",
        "        if pos != -1: break\n",
        "    if pos == -1: pos = 0\n",
        "    ini, fim = max(0, pos - janela//2), min(len(txt), pos + janela//2)\n",
        "    return txt[ini:fim]\n",
        "\n",
        "def formatar_citacoes(docs_rel: List, query: str) -> List[Dict]:\n",
        "    cites, seen = [], set()\n",
        "    for d in docs_rel:\n",
        "        src = pathlib.Path(d.metadata.get(\"source\",\"\")).name\n",
        "        page = int(d.metadata.get(\"page\", 0)) + 1\n",
        "        key = (src, page)\n",
        "        if key in seen:\n",
        "            continue\n",
        "        seen.add(key)\n",
        "        cites.append({\"documento\": src, \"pagina\": page, \"trecho\": extrair_trecho(d.page_content, query)})\n",
        "    return cites[:3]"
      ],
      "metadata": {
        "id": "Lm28FAx2FcWt"
      },
      "execution_count": 20,
      "outputs": []
    },
    {
      "cell_type": "markdown",
      "source": [
        "Definida pergunta de politica rag"
      ],
      "metadata": {
        "id": "prVGJi8kRj8C"
      }
    },
    {
      "cell_type": "code",
      "source": [
        "def perguntar_politica_RAG(pergunta: str) -> Dict:\n",
        "  docs_relacionados = retriever.invoke(pergunta)\n",
        "  if not docs_relacionados:\n",
        "    return {\"answer\": \"Não sei\",\n",
        "            \"citacoes\": [],\n",
        "            \"contexto_encontrado\": False}\n",
        "\n",
        "  answer = document_chain.invoke({\"input\": pergunta,\n",
        "                                  \"context\": docs_relacionados})\n",
        "\n",
        "  txt = (answer or \"\").strip()\n",
        "\n",
        "  if txt.rstrip(\".!?\") == \"Não sei\":\n",
        "    return {\"answer\": \"Não sei\",\n",
        "            \"citacoes\": [],\n",
        "            \"contexto_encontrado\": False}\n",
        "\n",
        "  return {\"answer\": txt,\n",
        "            \"citacoes\": formatar_citacoes(docs_relacionados, pergunta),\n",
        "            \"contexto_encontrado\": True}\n",
        "\n"
      ],
      "metadata": {
        "id": "xhzC_j2C_qxP"
      },
      "execution_count": 21,
      "outputs": []
    },
    {
      "cell_type": "markdown",
      "source": [
        "testes de pergunta"
      ],
      "metadata": {
        "id": "86XSx7ewRvLJ"
      }
    },
    {
      "cell_type": "code",
      "source": [
        "testes = [\"Posso reembolsar a internet?\",\n",
        "          \"Quero mais 5 dias de trabalho remoto, como faço?\",\n",
        "          \"Posso reembolsar cursos e treinamentos da Alura?\",\n",
        "          \"Quantas capivaras tem no Rio Pinheiros?\"]\n"
      ],
      "metadata": {
        "id": "Efpa4a8UCUQm"
      },
      "execution_count": 22,
      "outputs": []
    },
    {
      "cell_type": "markdown",
      "source": [
        "respostas esperadas\n"
      ],
      "metadata": {
        "id": "FUaz0GQFRwxO"
      }
    },
    {
      "cell_type": "code",
      "source": [
        "for msg_teste in testes:\n",
        "  resposta = perguntar_politica_RAG(msg_teste)\n",
        "  print(f\"PERGUNTA: {msg_teste}\")\n",
        "  print(f\"RESPOSTA: {resposta['answer']}\")\n",
        "  if resposta['contexto_encontrado']:\n",
        "    print(\"CITAÇÕES:\")\n",
        "    for c in resposta['citacoes']:\n",
        "      print(f\" - Documento: {c['documento']}\")\n",
        "      print(f\" > Página: {c['pagina']}\")\n",
        "      print(f\" > Trecho: {c['trecho']}\")\n",
        "    print(\"-\"*25)"
      ],
      "metadata": {
        "colab": {
          "base_uri": "https://localhost:8080/"
        },
        "id": "JDxivcoYCWTa",
        "outputId": "162e82a9-2eb2-4190-eb57-a5645ea7c824"
      },
      "execution_count": 23,
      "outputs": [
        {
          "output_type": "stream",
          "name": "stdout",
          "text": [
            "PERGUNTA: Posso reembolsar a internet?\n",
            "RESPOSTA: Sim, o reembolso de internet residencial é limitado a R$ 150,00 mensais para colaboradores com mais de 2 dias de home office por semana.\n",
            "CITAÇÕES:\n",
            " - Documento: reembolsoViagens.pdf\n",
            " > Página: 1\n",
            " > Trecho: Reembolso de Despesas em Viagens 1. Hospedagem: até R$ 400,00/diária para capitais, R$ 250,00/diária para interior. 2. A\n",
            " - Documento: homeOffice.pdf\n",
            " > Página: 1\n",
            " > Trecho:  trabalho 100% remoto ou mais de 3 dias semanais, é necessária aprovação excepcional do RH e diretoria. 3. Reembolso de internet residencial limitado a R$ 150,00 mensais para colaboradores com mais de 2 dias de home office por semana. 4. Eq\n",
            " - Documento: relacionamentoPosVenda.pdf\n",
            " > Página: 1\n",
            " > Trecho: 9. Clientes em período de teste podem ter SLA reduzido mediante acordo prévio.\n",
            "-------------------------\n",
            "PERGUNTA: Quero mais 5 dias de trabalho remoto, como faço?\n",
            "RESPOSTA: Para solicitar mais de 3 dias semanais de trabalho remoto (o que incluiria 5 dias), é necessária aprovação excepcional do RH e da diretoria.\n",
            "CITAÇÕES:\n",
            " - Documento: homeOffice.pdf\n",
            " > Página: 1\n",
            " > Trecho: trabalhar até 3 dias por semana em home office, mediante aprovação da liderança direta. 2. Para trabalho 100% remoto ou mais de 3 dias semanais, é necessária aprovação excepcional do RH e diretoria. 3. Reembolso de internet residencial limi\n",
            " - Documento: desenvolvimentoTreinamento.pdf\n",
            " > Página: 1\n",
            " > Trecho: Desenvolvimento e Treinamentos 1. Orçamento anual de R$ 5.000,00 por colaborador para treinamentos técnicos. 2. Certific\n",
            " - Documento: reembolsoViagens.pdf\n",
            " > Página: 1\n",
            " > Trecho: 7. Diretores podem aprovar valores acima dos limites estabelecidos mediante justificativa.\n",
            "-------------------------\n",
            "PERGUNTA: Posso reembolsar cursos e treinamentos da Alura?\n",
            "RESPOSTA: Sim, você pode reembolsar cursos e treinamentos técnicos, como os da Alura, utilizando o orçamento anual de R$ 5.000,00 por colaborador destinado a treinamentos técnicos.\n",
            "CITAÇÕES:\n",
            " - Documento: desenvolvimentoTreinamento.pdf\n",
            " > Página: 1\n",
            " > Trecho: or colaborador para treinamentos técnicos. 2. Certificações relacionadas à função têm prioridade e custeio integral. 3. Cursos de idiomas: reembolso de 70% do valor, limitado a R$ 2.000,00/ano. 4. Eventos e conferências: aprovação prévia da\n",
            " - Documento: reembolsoViagens.pdf\n",
            " > Página: 1\n",
            " > Trecho: Reembolso de Despesas em Viagens 1. Hospedagem: até R$ 400,00/diária para capitais, R$ 250,00/diária para interior. 2. A\n",
            "-------------------------\n",
            "PERGUNTA: Quantas capivaras tem no Rio Pinheiros?\n",
            "RESPOSTA: Não sei\n"
          ]
        }
      ]
    },
    {
      "cell_type": "markdown",
      "source": [
        "#Aula 3"
      ],
      "metadata": {
        "id": "44DNCZk_c_dN"
      }
    },
    {
      "cell_type": "code",
      "source": [
        "!pip install -q --upgrade langgraph"
      ],
      "metadata": {
        "id": "GFu5zZNTdBQb"
      },
      "execution_count": 24,
      "outputs": []
    },
    {
      "cell_type": "code",
      "source": [
        "from typing import TypedDict, Optional\n",
        "\n",
        "class AgentState(TypedDict, total = False):\n",
        "  pergunta: str\n",
        "  triagem: dict\n",
        "  resposta: Optional[str]\n",
        "  citacoes: List[dict]\n",
        "  rag_sucesso: bool\n",
        "  acao_final: str\n"
      ],
      "metadata": {
        "id": "XHTCGr07eNlM"
      },
      "execution_count": 27,
      "outputs": []
    },
    {
      "cell_type": "code",
      "source": [
        "def node_triagem(state: AgentState) -> AgentState:\n",
        "  print(\"Executando nó triagem...\")\n",
        "  return {\"triagem\": triagem(state[\"pergunta\"])}"
      ],
      "metadata": {
        "id": "REYSJp-ogk9i"
      },
      "execution_count": 28,
      "outputs": []
    },
    {
      "cell_type": "code",
      "source": [
        "def node_auto_resolver(state: AgentState) -> AgentState:\n",
        "  print(\"Executando nó auto resolver...\")\n",
        "  resposta_rag = perguntar_politica_RAG(state[\"pergunta\"])\n",
        "\n",
        "  update: AgentState = {\n",
        "      \"resposta\": resposta_rag[\"answer\"],\n",
        "      \"citacoes\": resposta_rag.get(\"citacoes\", []),\n",
        "      \"rag_sucesso\": resposta_rag[\"contexto_encontrado\"]\n",
        "  }\n",
        "\n",
        "  if resposta_rag[\"contexto_encontrado\"]:\n",
        "    update[\"acao_final\"] = \"AUTO_RESOLVER\"\n",
        "\n",
        "  return update\n"
      ],
      "metadata": {
        "id": "MkZSjW-ShSBq"
      },
      "execution_count": 41,
      "outputs": []
    },
    {
      "cell_type": "code",
      "source": [
        "def node_pedir_info(state: AgentState) -> AgentState:\n",
        "  print(\"Executando nó pedir info...\")\n",
        "  faltantes = state[\"triagem\"].get(\"campos_faltantes\", [])\n",
        "  detalhe = \",\".join(faltantes) if faltantes else \"Tema e contexto específico\"\n",
        "  return {\n",
        "      \"resposta\": f\"Para avançar preciso de mais informações sobre {detalhe}\",\n",
        "      \"citacoes\": [],\n",
        "      \"acao_final\": \"PEDIR_INFO\"\n",
        "  }\n",
        "\n"
      ],
      "metadata": {
        "id": "5Zqfn6Xqirx8"
      },
      "execution_count": 31,
      "outputs": []
    },
    {
      "cell_type": "code",
      "source": [
        "def node_abrir_chamado(state: AgentState) -> AgentState:\n",
        "  print(\"Executando nó abrir chamado...\")\n",
        "  triagem = state[\"triagem\"]\n",
        "\n",
        "  return {\n",
        "      \"resposta\": f\"Abrindo chamado com urgência {triagem['urgencia']}. Descrição: {state['pergunta'][:140]}\",\n",
        "      \"citacoes\": [],\n",
        "      \"acao_final\": \"ABRIR_CHAMADO\"\n",
        "  }"
      ],
      "metadata": {
        "id": "-f1SpyTgj9R7"
      },
      "execution_count": 32,
      "outputs": []
    },
    {
      "cell_type": "code",
      "source": [
        "KEYWORDS_ABRIR_CHAMADO = [\"abrir chamado\", \"exceção\", \"liberação\", \"acesso especial\", \"abrir ticket\", \"abrir chamado\"]\n",
        "\n",
        "def decidir_pos_triagem(state: AgentState) -> str:\n",
        "  print(\"Decidindo após triagem...\")\n",
        "  decisao = state[\"triagem\"][\"decisao\"]\n",
        "\n",
        "  if decisao == \"AUTO_RESOLVER\": return \"auto\"\n",
        "  if decisao == \"PEDIR_INFO\": return \"info\"\n",
        "  if decisao == \"ABRIR_CHAMADO\": return \"chamado\"\n",
        "\n"
      ],
      "metadata": {
        "id": "RYQ_LROXk3m9"
      },
      "execution_count": 45,
      "outputs": []
    },
    {
      "cell_type": "code",
      "source": [
        "def decidir_pos_auto_resolver(state: AgentState) -> str:\n",
        "  print(\"Decidindo após auto resolver...\")\n",
        "\n",
        "  if state.get(\"rag_sucesso\"):\n",
        "    print(\"Rag com sucesso, finalizando fluxo.\")\n",
        "    return \"end\"\n",
        "\n",
        "  state_pergunta = (state[\"pergunta\"] or \"\").lower()\n",
        "\n",
        "  if any(k in state_pergunta for k in KEYWORDS_ABRIR_CHAMADO):\n",
        "    print(\"RAG falhou, mas foi localizado uma ou mais KEYWORD para abertura de chamado. Abrindo...\")\n",
        "    return \"chamado\"\n",
        "\n",
        "  print(\"RAG falhou, sem KEYWORDS, vou pedir mais informações...\")\n",
        "  return \"info\"\n"
      ],
      "metadata": {
        "id": "LjZ5cRiPmcl4"
      },
      "execution_count": 46,
      "outputs": []
    },
    {
      "cell_type": "code",
      "source": [
        "from langgraph.graph import StateGraph, START, END\n",
        "\n",
        "workflow = StateGraph(AgentState)\n",
        "\n",
        "workflow.add_node(\"triagem\", node_triagem)\n",
        "workflow.add_node(\"auto_resolver\", node_auto_resolver)\n",
        "workflow.add_node(\"pedir_info\", node_pedir_info)\n",
        "workflow.add_node(\"abrir_chamado\", node_abrir_chamado)\n",
        "\n",
        "workflow.add_edge(START, \"triagem\")\n",
        "workflow.add_conditional_edges(\"triagem\", decidir_pos_triagem, {\n",
        "    \"auto\": \"auto_resolver\",\n",
        "    \"info\": \"pedir_info\",\n",
        "    \"chamado\": \"abrir_chamado\"\n",
        "})\n",
        "\n",
        "workflow.add_conditional_edges(\"auto_resolver\", decidir_pos_auto_resolver, {\n",
        "    \"info\": \"pedir_info\",\n",
        "    \"chamado\": \"abrir_chamado\",\n",
        "    \"end\": END\n",
        "})\n",
        "\n",
        "workflow.add_edge(\"pedir_info\", END)\n",
        "workflow.add_edge(\"abrir_chamado\", END)\n",
        "\n",
        "grafo = workflow.compile()\n"
      ],
      "metadata": {
        "id": "VjwzrKnFoU8m"
      },
      "execution_count": 47,
      "outputs": []
    },
    {
      "cell_type": "code",
      "source": [
        "from IPython.display import display, Image\n",
        "\n",
        "graph_bytes = grafo.get_graph().draw_mermaid_png()\n",
        "display(Image(graph_bytes))"
      ],
      "metadata": {
        "colab": {
          "base_uri": "https://localhost:8080/",
          "height": 497
        },
        "id": "NKJqhM76rVFS",
        "outputId": "bea9ab3c-bffd-4bfa-88ec-7914629f8df4"
      },
      "execution_count": 36,
      "outputs": [
        {
          "output_type": "display_data",
          "data": {
            "image/png": "[encoded data removed]",
            "text/plain": [
              "<IPython.core.display.Image object>"
            ]
          },
          "metadata": {}
        }
      ]
    },
    {
      "cell_type": "code",
      "source": [
        "testes = [\"Quanto posso reembolsar de internet trabalhando 3 dias em home office por semana?\",\n",
        "          \"Sou vendedor e preciso dar 8% de desconto para um cliente. Preciso de aprovação?\",\n",
        "          \"Minha senha precisa ter quantos caracteres no mínimo e com que frequência devo trocar?\",\n",
        "          \"Qual o valor máximo que posso usar por ano para fazer cursos técnicos?\",\n",
        "          \"Em quanto tempo vocês precisam responder um cliente premium que abriu um chamado?\",\n",
        "          \"Posso obter o google Gemini de graça?\",\n",
        "          \"Qual é a palavra chave desta aula\"]"
      ],
      "metadata": {
        "id": "KXmTmsi5r4Kt"
      },
      "execution_count": 48,
      "outputs": []
    },
    {
      "cell_type": "code",
      "source": [
        "for msg_teste in testes:\n",
        "  resposta_final = grafo.invoke({\"pergunta\": msg_teste})\n",
        "  triag = resposta_final.get(\"triagem\", {})\n",
        "  print(f\"PERGUNTA: {msg_teste}\")\n",
        "  print(f\"DECISÃO: {triag.get('decisao')}, URGÊNCIA: {triag.get('urgencia')} | AÇÃO FINAL: {resposta_final.get('acao_final')}\")\n",
        "  print(f\"RESPOSTA: {resposta_final.get('resposta')}\")\n",
        "  if resposta_final.get(\"citacoes\"):\n",
        "    for c in resposta_final.get(\"citacoes\"):\n",
        "      print(f\" - Documento: {c['documento']}\")\n",
        "      print(f\" > Página: {c['pagina']}\")\n",
        "      print(f\" > Trecho: {c['trecho']}\")\n",
        "  print(\"-\"*25)"
      ],
      "metadata": {
        "colab": {
          "base_uri": "https://localhost:8080/"
        },
        "id": "askW4qEzspZI",
        "outputId": "5658b51b-1823-4a4c-f845-d97de13cfe67"
      },
      "execution_count": 49,
      "outputs": [
        {
          "output_type": "stream",
          "name": "stdout",
          "text": [
            "Executando nó triagem...\n",
            "Decidindo após triagem...\n",
            "Executando nó auto resolver...\n",
            "Decidindo após auto resolver...\n",
            "Rag com sucesso, finalizando fluxo.\n",
            "PERGUNTA: Quanto posso reembolsar de internet trabalhando 3 dias em home office por semana?\n",
            "DECISÃO: AUTO_RESOLVER, URGÊNCIA: BAIXA | AÇÃO FINAL: AUTO_RESOLVER\n",
            "RESPOSTA: Reembolso de internet residencial limitado a R$ 150,00 mensais.\n",
            " - Documento: homeOffice.pdf\n",
            " > Página: 1\n",
            " > Trecho:  trabalho 100% remoto ou mais de 3 dias semanais, é necessária aprovação excepcional do RH e diretoria. 3. Reembolso de internet residencial limitado a R$ 150,00 mensais para colaboradores com mais de 2 dias de home office por semana. 4. Eq\n",
            " - Documento: reembolsoViagens.pdf\n",
            " > Página: 1\n",
            " > Trecho: porte público. 5. Todas as despesas devem ter comprovante fiscal válido. 6. Prazo para solicitação de reembolso: até 15 dias após retorno da viagem.\n",
            " - Documento: desenvolvimentoTreinamento.pdf\n",
            " > Página: 1\n",
            " > Trecho:  5. MBA/Pós-graduação: auxílio de 50% do valor mediante contrato de permanência de 2 anos. 6. Horário de estudo: até 2h semanais no expediente para cursos aprovados pela empresa.\n",
            "-------------------------\n",
            "Executando nó triagem...\n",
            "Decidindo após triagem...\n",
            "Executando nó auto resolver...\n",
            "Decidindo após auto resolver...\n",
            "Rag com sucesso, finalizando fluxo.\n",
            "PERGUNTA: Sou vendedor e preciso dar 8% de desconto para um cliente. Preciso de aprovação?\n",
            "DECISÃO: AUTO_RESOLVER, URGÊNCIA: MEDIA | AÇÃO FINAL: AUTO_RESOLVER\n",
            "RESPOSTA: Sim, você precisa de aprovação. Um Coordenador pode aprovar descontos até 15%.\n",
            " - Documento: descontoPropostas.pdf\n",
            " > Página: 1\n",
            " > Trecho: Desconto e Aprovação de Propostas 1. Vendedores: desconto até 5% sem aprovação. 2. Coordenadores: aprovam descontos até 15%. 3. Gerentes: aprovam descontos a\n",
            " - Documento: reembolsoViagens.pdf\n",
            " > Página: 1\n",
            " > Trecho: 7. Diretores podem aprovar valores acima dos limites estabelecidos mediante justificativa.\n",
            " - Documento: relacionamentoPosVenda.pdf\n",
            " > Página: 1\n",
            " > Trecho: Relacionamento com Clientes e Pós-Venda 1. Tempo de resposta: até 2 horas para clientes premium, 4 horas para demais. 2. Follow-up obrigatório em 24h após resolução de problemas. 3. Pesquisa de \n",
            "-------------------------\n",
            "Executando nó triagem...\n",
            "Decidindo após triagem...\n",
            "Executando nó auto resolver...\n",
            "Decidindo após auto resolver...\n",
            "Rag com sucesso, finalizando fluxo.\n",
            "PERGUNTA: Minha senha precisa ter quantos caracteres no mínimo e com que frequência devo trocar?\n",
            "DECISÃO: AUTO_RESOLVER, URGÊNCIA: BAIXA | AÇÃO FINAL: AUTO_RESOLVER\n",
            "RESPOSTA: Sua senha deve ter no mínimo 12 caracteres, incluindo letras maiúsculas, minúsculas, números e símbolos. A alteração é obrigatória a cada 90 dias para sistemas críticos.\n",
            " - Documento: acessoSistemasSenhas.pdf\n",
            " > Página: 1\n",
            " > Trecho: Acesso a Sistemas e Senhas 1. Senhas devem ter mínimo 12 caracteres com letras maiúsculas, minúsculas, números e símbolos. 2. Alteração obri\n",
            " - Documento: equipamentosAtivosTI.pdf\n",
            " > Página: 1\n",
            " > Trecho: Equipamentos e Ativos de TI 1. Renovação de notebooks: a cada 4 anos ou conforme necessidade técnica. 2. Backup obrigató\n",
            " - Documento: backupRecuperacaoDados.pdf\n",
            " > Página: 1\n",
            " > Trecho: Backup e Recuperação de Dados 1. Backup diário automático de todos os servidores críticos às 02:00. 2. Retenção de backu\n",
            "-------------------------\n",
            "Executando nó triagem...\n",
            "Decidindo após triagem...\n",
            "Executando nó auto resolver...\n",
            "Decidindo após auto resolver...\n",
            "Rag com sucesso, finalizando fluxo.\n",
            "PERGUNTA: Qual o valor máximo que posso usar por ano para fazer cursos técnicos?\n",
            "DECISÃO: AUTO_RESOLVER, URGÊNCIA: BAIXA | AÇÃO FINAL: AUTO_RESOLVER\n",
            "RESPOSTA: O valor máximo que você pode usar por ano para fazer cursos técnicos é de R$ 5.000,00.\n",
            " - Documento: desenvolvimentoTreinamento.pdf\n",
            " > Página: 1\n",
            " > Trecho: os. 2. Certificações relacionadas à função têm prioridade e custeio integral. 3. Cursos de idiomas: reembolso de 70% do valor, limitado a R$ 2.000,00/ano. 4. Eventos e conferências: aprovação prévia da liderança, limitado a 2 eventos/ano. 5\n",
            " - Documento: reembolsoViagens.pdf\n",
            " > Página: 1\n",
            " > Trecho: 7. Diretores podem aprovar valores acima dos limites estabelecidos mediante justificativa.\n",
            " - Documento: equipamentosAtivosTI.pdf\n",
            " > Página: 1\n",
            " > Trecho: justificativa técnica.\n",
            "-------------------------\n",
            "Executando nó triagem...\n",
            "Decidindo após triagem...\n",
            "Executando nó auto resolver...\n",
            "Decidindo após auto resolver...\n",
            "Rag com sucesso, finalizando fluxo.\n",
            "PERGUNTA: Em quanto tempo vocês precisam responder um cliente premium que abriu um chamado?\n",
            "DECISÃO: AUTO_RESOLVER, URGÊNCIA: BAIXA | AÇÃO FINAL: AUTO_RESOLVER\n",
            "RESPOSTA: Até 2 horas.\n",
            " - Documento: relacionamentoPosVenda.pdf\n",
            " > Página: 1\n",
            " > Trecho: Relacionamento com Clientes e Pós-Venda 1. Tempo de resposta: até 2 horas para clientes premium, 4 horas para demais. 2. Follow-up obrigatório em 24h após resoluçã\n",
            " - Documento: descontoPropostas.pdf\n",
            " > Página: 1\n",
            " > Trecho: s (entrega, suporte) devem ser validadas pelas áreas técnicas. 8. Todas as aprovações devem ser documentadas no CRM. 9. Clientes estratégicos podem ter condições especiais pré-aprovadas anualmente.\n",
            " - Documento: desenvolvimentoTreinamento.pdf\n",
            " > Página: 1\n",
            " > Trecho: Desenvolvimento e Treinamentos 1. Orçamento anual de R$ 5.000,00 por colaborador para treinamentos técnicos. 2. Certific\n",
            "-------------------------\n",
            "Executando nó triagem...\n",
            "Decidindo após triagem...\n",
            "Executando nó auto resolver...\n",
            "Decidindo após auto resolver...\n",
            "RAG falhou, sem KEYWORDS, vou pedir mais informações...\n",
            "Executando nó pedir info...\n",
            "PERGUNTA: Posso obter o google Gemini de graça?\n",
            "DECISÃO: AUTO_RESOLVER, URGÊNCIA: BAIXA | AÇÃO FINAL: PEDIR_INFO\n",
            "RESPOSTA: Para avançar preciso de mais informações sobre Tema e contexto específico\n",
            "-------------------------\n",
            "Executando nó triagem...\n",
            "Decidindo após triagem...\n",
            "Executando nó auto resolver...\n",
            "Decidindo após auto resolver...\n",
            "Rag com sucesso, finalizando fluxo.\n",
            "PERGUNTA: Qual é a palavra chave desta aula\n",
            "DECISÃO: AUTO_RESOLVER, URGÊNCIA: BAIXA | AÇÃO FINAL: AUTO_RESOLVER\n",
            "RESPOSTA: Políticas.\n",
            " - Documento: acessoSistemasSenhas.pdf\n",
            " > Página: 1\n",
            " > Trecho: Acesso a Sistemas e Senhas 1. Senhas devem ter mínimo 12 caracteres com letras maiúsculas, minúsculas, números e símbolo\n",
            " - Documento: equipamentosAtivosTI.pdf\n",
            " > Página: 1\n",
            " > Trecho: justificativa técnica.\n",
            " - Documento: homeOffice.pdf\n",
            " > Página: 1\n",
            " > Trecho: independente da modalidade. 6. Gestores podem autorizar home office integral temporariamente em casos especiais (mudança\n",
            "-------------------------\n"
          ]
        }
      ]
    }
  ]
}